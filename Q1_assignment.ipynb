{
  "cells": [
    {
      "cell_type": "markdown",
      "source": [
        "This file is the main file where we define the problem data, initiate model and train the model"
      ],
      "metadata": {
        "id": "MVaR4b9-iu3L"
      },
      "id": "MVaR4b9-iu3L"
    },
    {
      "cell_type": "markdown",
      "source": [
        "1. First we import all the relevant classes and libraries"
      ],
      "metadata": {
        "id": "24f6ebHvjSap"
      },
      "id": "24f6ebHvjSap"
    },
    {
      "cell_type": "code",
      "source": [
        "from physicsinformedQ1 import PhysicsInformedBarModel\n",
        "import utilities\n",
        "import numpy as np\n",
        "import torch\n",
        "import matplotlib.pyplot as plt"
      ],
      "metadata": {
        "id": "w_l4adLOjGyJ"
      },
      "id": "w_l4adLOjGyJ",
      "execution_count": 1,
      "outputs": []
    },
    {
      "cell_type": "markdown",
      "source": [
        "2. Analytical solution is derived for validation"
      ],
      "metadata": {
        "id": "-RcvGRwGjdLu"
      },
      "id": "-RcvGRwGjdLu"
    },
    {
      "cell_type": "code",
      "source": [
        "u_analytic = lambda x: 5*np.log(1+x)  #after integrating the functiom"
      ],
      "metadata": {
        "id": "4ppF7bu2jsvd"
      },
      "id": "4ppF7bu2jsvd",
      "execution_count": 2,
      "outputs": []
    },
    {
      "cell_type": "markdown",
      "source": [
        "3. Problem data are defined. Here the known data like mechanical parameters, boundary condition and loading conditions are defined"
      ],
      "metadata": {
        "id": "aj1oXOV3j0oE"
      },
      "id": "aj1oXOV3j0oE"
    },
    {
      "cell_type": "code",
      "source": [
        "E = lambda x: 2\n",
        "A = lambda x: 1+x\n",
        "L = 1\n",
        "u0 = [0,5*np.log(1+L)]  # Dirichlet boundary conditions for both edges\n",
        "distLoad = lambda x: 10"
      ],
      "metadata": {
        "id": "wixdAtJckJs0"
      },
      "id": "wixdAtJckJs0",
      "execution_count": 3,
      "outputs": []
    },
    {
      "cell_type": "markdown",
      "source": [
        "4. Next we generate the neural network model using the imported class PhysicsInformedBarModel"
      ],
      "metadata": {
        "id": "9RzoofTZkNxz"
      },
      "id": "9RzoofTZkNxz"
    },
    {
      "cell_type": "code",
      "source": [
        "pinnModel = PhysicsInformedBarModel(E, A, L, u0, dist_load=distLoad)"
      ],
      "metadata": {
        "id": "aOK1MmCGkdEA",
        "colab": {
          "base_uri": "https://localhost:8080/"
        },
        "outputId": "c1558892-ed21-473e-a586-a93036047d52"
      },
      "id": "aOK1MmCGkdEA",
      "execution_count": 4,
      "outputs": [
        {
          "output_type": "stream",
          "name": "stdout",
          "text": [
            "check 2\n"
          ]
        }
      ]
    },
    {
      "cell_type": "markdown",
      "source": [
        "5. Next we train our model. The method/function 'train' is defined in the class PhysicsInformedBarModel"
      ],
      "metadata": {
        "id": "9YLwGbdpkhxv"
      },
      "id": "9YLwGbdpkhxv"
    },
    {
      "cell_type": "code",
      "source": [
        "epochs = 500\n",
        "learningRate = 1e-2\n",
        "\n",
        "pinnModel.train(epochs, optimizer='LBFGS', lr=learningRate)"
      ],
      "metadata": {
        "id": "UKjY96mRkoFa",
        "colab": {
          "base_uri": "https://localhost:8080/"
        },
        "outputId": "7d3e56ef-7884-4f90-92da-86f793b724d9"
      },
      "id": "UKjY96mRkoFa",
      "execution_count": 5,
      "outputs": [
        {
          "output_type": "stream",
          "name": "stdout",
          "text": [
            "Epoch: 0/499\t\tDifferential equation loss = 255.423523\t\tBoundary condition loss = 13.638290\t\tTotal loss = 269.061829\n",
            "Epoch: 100/499\t\tDifferential equation loss = 0.000004\t\tBoundary condition loss = 0.000000\t\tTotal loss = 0.000004\n",
            "Epoch: 200/499\t\tDifferential equation loss = 0.000004\t\tBoundary condition loss = 0.000000\t\tTotal loss = 0.000004\n",
            "Epoch: 300/499\t\tDifferential equation loss = 0.000004\t\tBoundary condition loss = 0.000000\t\tTotal loss = 0.000004\n",
            "Epoch: 400/499\t\tDifferential equation loss = 0.000004\t\tBoundary condition loss = 0.000000\t\tTotal loss = 0.000004\n",
            "Epoch: 499/499\t\tDifferential equation loss = 0.000004\t\tBoundary condition loss = 0.000000\t\tTotal loss = 0.000004\n"
          ]
        }
      ]
    },
    {
      "cell_type": "markdown",
      "source": [
        "6. We generate sample test data using utilities library and then predict the displacements at those test points"
      ],
      "metadata": {
        "id": "1TneSGHGkrCq"
      },
      "id": "1TneSGHGkrCq"
    },
    {
      "cell_type": "code",
      "source": [
        "samples = 50\n",
        "x_test = utilities.generate_grid_1d(L, samples)\n",
        "u_test = pinnModel.get_displacements(x_test)"
      ],
      "metadata": {
        "id": "tdUpXT6flc5o"
      },
      "id": "tdUpXT6flc5o",
      "execution_count": 6,
      "outputs": []
    },
    {
      "cell_type": "markdown",
      "source": [
        "7. We plot predicted displacements at test points and also the training history"
      ],
      "metadata": {
        "id": "DUl2FSDzlhnp"
      },
      "id": "DUl2FSDzlhnp"
    },
    {
      "cell_type": "code",
      "execution_count": 7,
      "id": "8f1125c4",
      "metadata": {
        "id": "8f1125c4",
        "colab": {
          "base_uri": "https://localhost:8080/",
          "height": 449
        },
        "outputId": "4058eee5-bbb3-465e-bd4d-246c464487a6"
      },
      "outputs": [
        {
          "output_type": "display_data",
          "data": {
            "image/png": "[encoded data removed]",
            "text/plain": [
              "<Figure size 288x216 with 1 Axes>"
            ]
          },
          "metadata": {
            "needs_background": "light"
          }
        },
        {
          "output_type": "display_data",
          "data": {
            "image/png": "[encoded data removed]",
            "text/plain": [
              "<Figure size 288x216 with 1 Axes>"
            ]
          },
          "metadata": {
            "needs_background": "light"
          }
        }
      ],
      "source": [
        "utilities.plot_displacements_bar(x_test, u_test, u_analytic)\n",
        "\n",
        "pinnModel.plot_training_history()\n"
      ]
    },
    {
      "cell_type": "code",
      "source": [
        ""
      ],
      "metadata": {
        "id": "CMdJt3EhV5_P"
      },
      "id": "CMdJt3EhV5_P",
      "execution_count": 7,
      "outputs": []
    }
  ],
  "metadata": {
    "kernelspec": {
      "display_name": "Python 3 (ipykernel)",
      "language": "python",
      "name": "python3"
    },
    "language_info": {
      "codemirror_mode": {
        "name": "ipython",
        "version": 3
      },
      "file_extension": ".py",
      "mimetype": "text/x-python",
      "name": "python",
      "nbconvert_exporter": "python",
      "pygments_lexer": "ipython3",
      "version": "3.8.1"
    },
    "colab": {
      "name": "Assignment6_JuhiSingh.ipynb",
      "provenance": [],
      "collapsed_sections": []
    }
  },
  "nbformat": 4,
  "nbformat_minor": 5
}