{
  "cells": [
    {
      "cell_type": "markdown",
      "source": [
        "This file is the main file where we define the problem data, initiate model and train the model"
      ],
      "metadata": {
        "id": "MVaR4b9-iu3L"
      },
      "id": "MVaR4b9-iu3L"
    },
    {
      "cell_type": "markdown",
      "source": [
        "1. First we import all the relevant classes and libraries"
      ],
      "metadata": {
        "id": "24f6ebHvjSap"
      },
      "id": "24f6ebHvjSap"
    },
    {
      "cell_type": "code",
      "source": [
        "from physicsinformedQ2 import PhysicsInformedBarModel\n",
        "import utilities\n",
        "import numpy as np\n",
        "import torch\n",
        "import matplotlib.pyplot as plt"
      ],
      "metadata": {
        "id": "w_l4adLOjGyJ"
      },
      "id": "w_l4adLOjGyJ",
      "execution_count": null,
      "outputs": []
    },
    {
      "cell_type": "markdown",
      "source": [
        "2. Analytical solution is derived for validation"
      ],
      "metadata": {
        "id": "-RcvGRwGjdLu"
      },
      "id": "-RcvGRwGjdLu"
    },
    {
      "cell_type": "code",
      "source": [
        "u_analytic = lambda x: (-(np.power(x,4)/24)+(np.power(x,3)/12)-(np.power(x,2)/24))"
      ],
      "metadata": {
        "id": "4ppF7bu2jsvd"
      },
      "id": "4ppF7bu2jsvd",
      "execution_count": null,
      "outputs": []
    },
    {
      "cell_type": "markdown",
      "source": [
        "3. Problem data are defined. Here the known data like mechanical parameters, boundary condition and loading conditions are defined"
      ],
      "metadata": {
        "id": "aj1oXOV3j0oE"
      },
      "id": "aj1oXOV3j0oE"
    },
    {
      "cell_type": "code",
      "source": [
        "E = lambda x: 1\n",
        "I = lambda x: 1\n",
        "L = 1\n",
        "u0 = [0,0]  # Dirichlet boundary conditions for both edges\n",
        "u1 = [0,0]\n",
        "distLoad = lambda x: 1"
      ],
      "metadata": {
        "id": "wixdAtJckJs0"
      },
      "id": "wixdAtJckJs0",
      "execution_count": null,
      "outputs": []
    },
    {
      "cell_type": "markdown",
      "source": [
        "4. Next we generate the neural network model using the imported class PhysicsInformedBarModel"
      ],
      "metadata": {
        "id": "9RzoofTZkNxz"
      },
      "id": "9RzoofTZkNxz"
    },
    {
      "cell_type": "code",
      "source": [
        "pinnModel = PhysicsInformedBarModel(E, I, L, u0, u1, dist_load=distLoad)"
      ],
      "metadata": {
        "colab": {
          "base_uri": "https://localhost:8080/"
        },
        "id": "aOK1MmCGkdEA",
        "outputId": "4afdafeb-aa38-4fb6-d167-25ef5edcf800"
      },
      "id": "aOK1MmCGkdEA",
      "execution_count": null,
      "outputs": [
        {
          "output_type": "stream",
          "name": "stdout",
          "text": [
            "check 2\n"
          ]
        }
      ]
    },
    {
      "cell_type": "markdown",
      "source": [
        "5. Next we train our model. The method/function 'train' is defined in the class PhysicsInformedBarModel"
      ],
      "metadata": {
        "id": "9YLwGbdpkhxv"
      },
      "id": "9YLwGbdpkhxv"
    },
    {
      "cell_type": "code",
      "source": [
        "epochs = 500\n",
        "learningRate = 1e-2\n",
        "\n",
        "pinnModel.train(epochs, optimizer='LBFGS', lr=learningRate)"
      ],
      "metadata": {
        "colab": {
          "base_uri": "https://localhost:8080/"
        },
        "id": "UKjY96mRkoFa",
        "outputId": "54a4efbe-47bb-45cb-d52b-d0314d9459b0"
      },
      "id": "UKjY96mRkoFa",
      "execution_count": null,
      "outputs": [
        {
          "output_type": "stream",
          "name": "stdout",
          "text": [
            "Epoch: 0/499\t\tDifferential equation loss = 54.065735\t\tBoundary condition loss = 0.051667\t\tTotal loss = 54.117401\n",
            "Epoch: 100/499\t\tDifferential equation loss = 0.000031\t\tBoundary condition loss = 0.000536\t\tTotal loss = 0.000566\n",
            "Epoch: 200/499\t\tDifferential equation loss = 0.000014\t\tBoundary condition loss = 0.000000\t\tTotal loss = 0.000014\n",
            "Epoch: 300/499\t\tDifferential equation loss = 0.000014\t\tBoundary condition loss = 0.000000\t\tTotal loss = 0.000014\n",
            "Epoch: 400/499\t\tDifferential equation loss = 0.000014\t\tBoundary condition loss = 0.000000\t\tTotal loss = 0.000014\n",
            "Epoch: 499/499\t\tDifferential equation loss = 0.000014\t\tBoundary condition loss = 0.000000\t\tTotal loss = 0.000014\n"
          ]
        }
      ]
    },
    {
      "cell_type": "markdown",
      "source": [
        "6. We generate sample test data using utilities library and then predict the displacements at those test points"
      ],
      "metadata": {
        "id": "1TneSGHGkrCq"
      },
      "id": "1TneSGHGkrCq"
    },
    {
      "cell_type": "code",
      "source": [
        "samples = 100\n",
        "x_test = utilities.generate_grid_1d(L, samples)\n",
        "u_test = pinnModel.get_displacements(x_test)"
      ],
      "metadata": {
        "id": "tdUpXT6flc5o"
      },
      "id": "tdUpXT6flc5o",
      "execution_count": null,
      "outputs": []
    },
    {
      "cell_type": "markdown",
      "source": [
        "7. We plot predicted displacements at test points and also the training history"
      ],
      "metadata": {
        "id": "DUl2FSDzlhnp"
      },
      "id": "DUl2FSDzlhnp"
    },
    {
      "cell_type": "code",
      "execution_count": null,
      "id": "8f1125c4",
      "metadata": {
        "colab": {
          "base_uri": "https://localhost:8080/",
          "height": 449
        },
        "id": "8f1125c4",
        "outputId": "d5f1511d-26a6-461c-99f8-a22e0cfcbe25"
      },
      "outputs": [
        {
          "output_type": "display_data",
          "data": {
            "image/png": "[encoded data removed]",
            "text/plain": [
              "<Figure size 288x216 with 1 Axes>"
            ]
          },
          "metadata": {
            "needs_background": "light"
          }
        },
        {
          "output_type": "display_data",
          "data": {
            "image/png": "[encoded data removed]",
            "text/plain": [
              "<Figure size 288x216 with 1 Axes>"
            ]
          },
          "metadata": {
            "needs_background": "light"
          }
        }
      ],
      "source": [
        "utilities.plot_displacements_bar(x_test, u_test, u_analytic)\n",
        "\n",
        "pinnModel.plot_training_history()\n"
      ]
    },
    {
      "cell_type": "code",
      "source": [
        ""
      ],
      "metadata": {
        "id": "JlspAMA7Gi_T"
      },
      "id": "JlspAMA7Gi_T",
      "execution_count": null,
      "outputs": []
    }
  ],
  "metadata": {
    "kernelspec": {
      "display_name": "Python 3 (ipykernel)",
      "language": "python",
      "name": "python3"
    },
    "language_info": {
      "codemirror_mode": {
        "name": "ipython",
        "version": 3
      },
      "file_extension": ".py",
      "mimetype": "text/x-python",
      "name": "python",
      "nbconvert_exporter": "python",
      "pygments_lexer": "ipython3",
      "version": "3.8.1"
    },
    "colab": {
      "name": "Assignment6_JuhiSingh",
      "provenance": []
    }
  },
  "nbformat": 4,
  "nbformat_minor": 5
}